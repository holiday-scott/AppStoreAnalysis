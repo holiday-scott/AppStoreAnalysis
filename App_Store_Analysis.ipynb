{
  "nbformat": 4,
  "nbformat_minor": 5,
  "metadata": {
    "kernelspec": {
      "display_name": "Python 3",
      "language": "python",
      "name": "python3"
    },
    "language_info": {
      "codemirror_mode": {
        "name": "ipython",
        "version": 3
      },
      "file_extension": ".py",
      "mimetype": "text/x-python",
      "name": "python",
      "nbconvert_exporter": "python",
      "pygments_lexer": "ipython3",
      "version": "3.8.5"
    },
    "colab": {
      "name": "App_Store_Analysis.ipynb",
      "provenance": [],
      "include_colab_link": true
    }
  },
  "cells": [
    {
      "cell_type": "markdown",
      "metadata": {
        "id": "view-in-github",
        "colab_type": "text"
      },
      "source": [
        "<a href=\"https://colab.research.google.com/github/holiday-scott/AppStoreAnalysis/blob/main/App_Store_Analysis.ipynb\" target=\"_parent\"><img src=\"https://colab.research.google.com/assets/colab-badge.svg\" alt=\"Open In Colab\"/></a>"
      ]
    },
    {
      "cell_type": "markdown",
      "metadata": {
        "id": "inappropriate-sapphire"
      },
      "source": [
        "## Most Profitable Free Apps on Google Play and Apple Store\n",
        "\n",
        "#### Introduction\n",
        "This is the first project in the Data Analyst in Python learning pathway with DataQuest.\n",
        "\n",
        "#### Scenario\n",
        "I am doing data analysis for a company that builds Android and iOS mobile apps. The company only makes apps that are free to download and install, so the main source of revenue consists of in-app ads. This means revenue for any given app is mostly influenced by the number of users who use the app — the more users that see and engage with the ads, the better. \n",
        "\n",
        "#### Goal\n",
        "To understand what type of apps are likely to attract more users.\n",
        "\n",
        "#### Dataset\n",
        "* Apple Store: [This data set](https://www.kaggle.com/ramamet4/app-store-apple-data-set-10k-apps) contains more than 7000 Apple iOS mobile application details.\n",
        "* Play Store: [This data set](https://www.kaggle.com/lava18/google-play-store-apps) contains more than 10000 mobile applicationd details.\n",
        "\n",
        "## Part 1 - Prepration\n",
        "First we mount Google Drive and read in the data sets.\n",
        "\n"
      ],
      "id": "inappropriate-sapphire"
    },
    {
      "cell_type": "code",
      "metadata": {
        "colab": {
          "base_uri": "https://localhost:8080/"
        },
        "id": "QZJGkX5GLfzW",
        "outputId": "40fe9824-0b02-4bbb-8099-2157e6220422"
      },
      "source": [
        "# Mount Google.\r\n",
        "from google.colab import drive\r\n",
        "drive.mount(\"/content/gdrive\", force_remount=True)\r\n",
        "#drive.flush_and_unmount()\r\n",
        "\r\n",
        "# Load reader modules\r\n",
        "from csv import reader\r\n",
        "\r\n",
        "# Find out where the data is.\r\n",
        "#!ls \"gdrive/MyDrive/Colab Notebooks/p1/\"\r\n",
        "\r\n",
        "### Google Play Data Set ###\r\n",
        "opened_file = open('gdrive/MyDrive/Colab Notebooks/p1/PlayStore.csv')\r\n",
        "read_file = reader(opened_file)\r\n",
        "android = list(read_file)\r\n",
        "android_header = android[0]\r\n",
        "android = android[1:]\r\n",
        "\r\n",
        "opened_file = open('gdrive/MyDrive/Colab Notebooks/p1/AppleStore.csv')\r\n",
        "read_file = reader(opened_file)\r\n",
        "ios = list(read_file)\r\n",
        "ios_header = ios[0]\r\n",
        "ios = ios[1:]\r\n",
        "\r\n",
        "# Show the first two lines of each data set\r\n",
        "print(\"\\n\")\r\n",
        "print(\"First two lines of the Apple Store data set\")\r\n",
        "print(\"-------------------------------------------\")\r\n",
        "print(ios_header)\r\n",
        "print(ios[1])\r\n",
        "\r\n",
        "print(\"First two lines of the Google Play Store data set\")\r\n",
        "print(\"-------------------------------------------------\")\r\n",
        "print(android_header)\r\n",
        "print(android[1])"
      ],
      "id": "QZJGkX5GLfzW",
      "execution_count": null,
      "outputs": [
        {
          "output_type": "stream",
          "text": [
            "Mounted at /content/gdrive\n",
            "\n",
            "\n",
            "First two lines of the Apple Store data set\n",
            "-------------------------------------------\n",
            "['id', 'track_name', 'size_bytes', 'currency', 'price', 'rating_count_tot', 'rating_count_ver', 'user_rating', 'user_rating_ver', 'ver', 'cont_rating', 'prime_genre', 'sup_devices.num', 'ipadSc_urls.num', 'lang.num', 'vpp_lic']\n",
            "['389801252', 'Instagram', '113954816', 'USD', '0.0', '2161558', '1289', '4.5', '4.0', '10.23', '12+', 'Photo & Video', '37', '0', '29', '1']\n",
            "First two lines of the Google Play Store data set\n",
            "-------------------------------------------------\n",
            "['App', 'Category', 'Rating', 'Reviews', 'Size', 'Installs', 'Type', 'Price', 'Content Rating', 'Genres', 'Last Updated', 'Current Ver', 'Android Ver']\n",
            "['Coloring book moana', 'ART_AND_DESIGN', '3.9', '967', '14M', '500,000+', 'Free', '0', 'Everyone', 'Art & Design;Pretend Play', 'January 15, 2018', '2.0.0', '4.0.3 and up']\n"
          ],
          "name": "stdout"
        }
      ]
    },
    {
      "cell_type": "markdown",
      "metadata": {
        "id": "ZARbnJpAQyo5"
      },
      "source": [
        "## Part 1 Continued\r\n",
        "Next, we will need an inspection function to take a look at slices of the data as we clean it up."
      ],
      "id": "ZARbnJpAQyo5"
    },
    {
      "cell_type": "code",
      "metadata": {
        "colab": {
          "base_uri": "https://localhost:8080/"
        },
        "id": "IRR19dhtQ8SB",
        "outputId": "94a4b81d-c9fc-4be7-f7af-5466b2540e2f"
      },
      "source": [
        "# Take data set, start and end point of slice, and count columns as a parameter\r\n",
        "def explore_data(dataset, start, end, rows_and_columns=False):\r\n",
        "    dataset_slice = dataset[start:end]    \r\n",
        "    for row in dataset_slice:\r\n",
        "        print(row)\r\n",
        "        print('\\n') # adds a new (empty) line between rows\r\n",
        "        \r\n",
        "    if rows_and_columns:\r\n",
        "        print('Number of rows:', len(dataset))\r\n",
        "        print('Number of columns:', len(dataset[0]))\r\n",
        "\r\n",
        "print(android_header)\r\n",
        "print('\\n')\r\n",
        "explore_data(android, 0, 3, True)"
      ],
      "id": "IRR19dhtQ8SB",
      "execution_count": null,
      "outputs": [
        {
          "output_type": "stream",
          "text": [
            "['App', 'Category', 'Rating', 'Reviews', 'Size', 'Installs', 'Type', 'Price', 'Content Rating', 'Genres', 'Last Updated', 'Current Ver', 'Android Ver']\n",
            "\n",
            "\n",
            "['Photo Editor & Candy Camera & Grid & ScrapBook', 'ART_AND_DESIGN', '4.1', '159', '19M', '10,000+', 'Free', '0', 'Everyone', 'Art & Design', 'January 7, 2018', '1.0.0', '4.0.3 and up']\n",
            "\n",
            "\n",
            "['Coloring book moana', 'ART_AND_DESIGN', '3.9', '967', '14M', '500,000+', 'Free', '0', 'Everyone', 'Art & Design;Pretend Play', 'January 15, 2018', '2.0.0', '4.0.3 and up']\n",
            "\n",
            "\n",
            "['U Launcher Lite – FREE Live Cool Themes, Hide Apps', 'ART_AND_DESIGN', '4.7', '87510', '8.7M', '5,000,000+', 'Free', '0', 'Everyone', 'Art & Design', 'August 1, 2018', '1.2.4', '4.0.3 and up']\n",
            "\n",
            "\n",
            "Number of rows: 10841\n",
            "Number of columns: 13\n"
          ],
          "name": "stdout"
        }
      ]
    },
    {
      "cell_type": "markdown",
      "metadata": {
        "id": "gn0NGPfeoxya"
      },
      "source": [
        "## Part 2 - Cleaning the Data\r\n",
        "\r\n",
        "### Deleting Rows\r\n",
        "This function shows a row and then asks if you want to deletes that row."
      ],
      "id": "gn0NGPfeoxya"
    },
    {
      "cell_type": "code",
      "metadata": {
        "id": "JNprGcC5pE4Q"
      },
      "source": [
        "### TEST LIST OF LISTS ###\r\n",
        "#test_col = [\"col0\", \"col1\", \"col2\", \"col3\"]\r\n",
        "#test_row1 = [\"row1\", \"row1\", \"row1\", \"row1\"]\r\n",
        "#test_row2 = [\"row2\", \"row2\", \"row2\", \"row2\"]\r\n",
        "#test_list_of_list = [test_col, test_row1, test_row2]\r\n",
        "\r\n",
        "def del_row(data_set, row_index):\r\n",
        "  print(\"This is row \", row_index)\r\n",
        "  print(data_set[row_index])\r\n",
        "  choice = input(\"Delete this row? [y/n]\")\r\n",
        "  if choice == \"y\": # only one valid answer\r\n",
        "    del data_set[row_index]\r\n",
        "    print(\"I have deleted row\", row_index)\r\n",
        "    #return data_set #use for testing.\r\n",
        "  else: # else used so any other character results in no deletion \r\n",
        "    print(\"No action taken\")\r\n",
        "    #return data_set #use for testing.\r\n",
        "\r\n",
        "#del_row(test_list_of_list,1)\r\n"
      ],
      "id": "JNprGcC5pE4Q",
      "execution_count": null,
      "outputs": []
    },
    {
      "cell_type": "markdown",
      "metadata": {
        "id": "61RegAbtsoVf"
      },
      "source": [
        "We can now use this function to delete the known error on row **10472 of the Android data set**.\r\n",
        "\r\n",
        "Since I'm not sure if the reported row counts to include the header row or not, we will use this function to inspect the row and delete if it matches the description: \"Life Made WI-Fi...\""
      ],
      "id": "61RegAbtsoVf"
    },
    {
      "cell_type": "code",
      "metadata": {
        "id": "h-KUgWQms7A9"
      },
      "source": [
        "#del_row(android, 10472)"
      ],
      "id": "h-KUgWQms7A9",
      "execution_count": null,
      "outputs": []
    },
    {
      "cell_type": "markdown",
      "metadata": {
        "id": "hpQdDegUt1Pr"
      },
      "source": [
        "The row was successfully deleted. Function commented out so it doesn't delete the next row by accident.\r\n",
        "\r\n",
        "## Duplicate Data Points\r\n",
        "Different versions of different apps, as well as updates, re-releases and scraping errors mean there may well be duplicate data points.\r\n",
        "\r\n",
        "Analysis and visualisation will be helped by ensuring each app only occurs once in the data set.\r\n",
        "\r\n",
        "The Android data set does indeed have multiple duplicates rows for the same application.\r\n",
        "\r\n",
        "### Count Duplicates\r\n",
        "This function counts the number of duplicate apps in the data set."
      ],
      "id": "hpQdDegUt1Pr"
    },
    {
      "cell_type": "code",
      "metadata": {
        "colab": {
          "base_uri": "https://localhost:8080/"
        },
        "id": "23_VdZIouhNQ",
        "outputId": "e78d1218-16a1-4307-adf0-1ac7cae47b67"
      },
      "source": [
        "### TEST LIST OF LISTS ###\r\n",
        "#test_col = [\"col 0\", \"col 1\", \"col 2\", \"col 3\"]\r\n",
        "#test_row1 = [\"row 1\", \"row 1\", \"row 1\", \"row 1\"]\r\n",
        "#test_row2 = [\"row 2\", \"row 2\", \"row 2\", \"row 2\"]\r\n",
        "#test_row3 = [\"row 2\", \"row 2\", \"row 2\", \"row 2\"]\r\n",
        "#test = [test_col, test_row1, test_row2, test_row3]\r\n",
        "\r\n",
        "def find_dup(dataset):\r\n",
        "  duplicates = []\r\n",
        "  uniques = []\r\n",
        "  print(\"Total Rows:\",len(dataset))\r\n",
        "  for row in dataset:\r\n",
        "    #print(len(duplicates)) # debug line\r\n",
        "    #print(len(uniques)) # debug line\r\n",
        "    name = row[0]\r\n",
        "    #print(name) # debug line\r\n",
        "    #print(row) # debug line\r\n",
        "    if name in uniques:\r\n",
        "      duplicates.append(name)\r\n",
        "    else:\r\n",
        "      uniques.append(name)\r\n",
        "  print(\"Duplicate apps:\", len(duplicates))\r\n",
        "  print(\"Unique apps:\", len(uniques))\r\n",
        "  print(\"Checksum:\", len(duplicates)+len(uniques))\r\n",
        "  return\r\n",
        "\r\n",
        "find_dup(android)\r\n",
        "\r\n"
      ],
      "id": "23_VdZIouhNQ",
      "execution_count": null,
      "outputs": [
        {
          "output_type": "stream",
          "text": [
            "Total Rows: 10840\n",
            "Duplicate apps: 1181\n",
            "Unique apps: 9659\n",
            "Checksum: 10840\n"
          ],
          "name": "stdout"
        }
      ]
    },
    {
      "cell_type": "markdown",
      "metadata": {
        "id": "yxody4mVzNC7"
      },
      "source": [
        "### Delete Duplicates\r\n",
        "Now we know they are there, we need to delete them."
      ],
      "id": "yxody4mVzNC7"
    },
    {
      "cell_type": "code",
      "metadata": {
        "id": "_AMiVfjTzoyR"
      },
      "source": [
        "### TEST LIST OF LISTS ###\r\n",
        "#test_col = [\"col 0\", \"col 1\", \"col 2\", \"col 3\"]\r\n",
        "#test_row1 = [\"row 1\", \"row 1\", \"row 1\", \"row 1\"]\r\n",
        "#test_row2 = [\"row 2\", \"row 2\", \"row 2\", \"row 2\"]\r\n",
        "#test_row3 = [\"row 2\", \"row 2\", \"row 2\", \"row 2\"]\r\n",
        "#test = [test_col, test_row1, test_row2, test_row3]\r\n",
        "\r\n",
        "def del_dup(dataset):\r\n",
        "  "
      ],
      "id": "_AMiVfjTzoyR",
      "execution_count": null,
      "outputs": []
    }
  ]
}