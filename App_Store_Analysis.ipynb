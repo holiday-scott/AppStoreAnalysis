{
  "nbformat": 4,
  "nbformat_minor": 5,
  "metadata": {
    "kernelspec": {
      "display_name": "Python 3",
      "language": "python",
      "name": "python3"
    },
    "language_info": {
      "codemirror_mode": {
        "name": "ipython",
        "version": 3
      },
      "file_extension": ".py",
      "mimetype": "text/x-python",
      "name": "python",
      "nbconvert_exporter": "python",
      "pygments_lexer": "ipython3",
      "version": "3.8.5"
    },
    "colab": {
      "name": "App_Store_Analysis.ipynb",
      "provenance": [],
      "collapsed_sections": [],
      "include_colab_link": true
    }
  },
  "cells": [
    {
      "cell_type": "markdown",
      "metadata": {
        "id": "view-in-github",
        "colab_type": "text"
      },
      "source": [
        "<a href=\"https://colab.research.google.com/github/holiday-scott/AppStoreAnalysis/blob/main/App_Store_Analysis.ipynb\" target=\"_parent\"><img src=\"https://colab.research.google.com/assets/colab-badge.svg\" alt=\"Open In Colab\"/></a>"
      ]
    },
    {
      "cell_type": "markdown",
      "metadata": {
        "id": "inappropriate-sapphire"
      },
      "source": [
        "## Most Profitable Free Apps on Google Play and Apple Store\n",
        "\n",
        "#### Introduction\n",
        "This is the first project in the Data Analyst in Python learning pathway with DataQuest.\n",
        "\n",
        "#### Scenario\n",
        "I am doing data analysis for a company that builds Android and iOS mobile apps. The company only makes apps that are free to download and install, so the main source of revenue consists of in-app ads. This means revenue for any given app is mostly influenced by the number of users who use the app — the more users that see and engage with the ads, the better. \n",
        "\n",
        "#### Goal\n",
        "To understand what type of apps are likely to attract more users.\n",
        "\n",
        "#### Dataset\n",
        "* Apple Store: [This data set](https://www.kaggle.com/ramamet4/app-store-apple-data-set-10k-apps) contains more than 7000 Apple iOS mobile application details.\n",
        "* Play Store: [This data set](https://www.kaggle.com/lava18/google-play-store-apps) contains more than 10000 mobile applicationd details.\n",
        "\n",
        "## Part 1 - Prepration\n",
        "First we mount Google Drive and read in the data sets.\n",
        "\n"
      ],
      "id": "inappropriate-sapphire"
    },
    {
      "cell_type": "code",
      "metadata": {
        "colab": {
          "base_uri": "https://localhost:8080/"
        },
        "id": "QZJGkX5GLfzW",
        "outputId": "ff526733-437f-4418-9930-e5ffd0b080c3"
      },
      "source": [
        "# Mount Google.\r\n",
        "from google.colab import drive\r\n",
        "drive.mount(\"/content/gdrive\", force_remount=True)\r\n",
        "#drive.flush_and_unmount()\r\n",
        "\r\n",
        "# Load reader modules\r\n",
        "from csv import reader\r\n",
        "\r\n",
        "# Find out where the data is.\r\n",
        "#!ls \"gdrive/MyDrive/Colab Notebooks/p1/\"\r\n",
        "\r\n",
        "### Google Play Data Set ###\r\n",
        "opened_file = open('gdrive/MyDrive/Colab Notebooks/p1/PlayStore.csv')\r\n",
        "read_file = reader(opened_file)\r\n",
        "android = list(read_file)\r\n",
        "android_header = android[0]\r\n",
        "android = android[1:]\r\n",
        "\r\n",
        "opened_file = open('gdrive/MyDrive/Colab Notebooks/p1/AppleStore.csv')\r\n",
        "read_file = reader(opened_file)\r\n",
        "ios = list(read_file)\r\n",
        "ios_header = ios[0]\r\n",
        "ios = ios[1:]\r\n",
        "\r\n",
        "# Show the first two lines of each data set\r\n",
        "print(\"\\n\")\r\n",
        "print(\"First two lines of the Apple Store data set\")\r\n",
        "print(\"-------------------------------------------\")\r\n",
        "print(ios_header)\r\n",
        "print(ios[1])\r\n",
        "\r\n",
        "print(\"First two lines of the Google Play Store data set\")\r\n",
        "print(\"-------------------------------------------------\")\r\n",
        "print(android_header)\r\n",
        "print(android[1])"
      ],
      "id": "QZJGkX5GLfzW",
      "execution_count": 7,
      "outputs": [
        {
          "output_type": "stream",
          "text": [
            "Mounted at /content/gdrive\n",
            "\n",
            "\n",
            "First two lines of the Apple Store data set\n",
            "-------------------------------------------\n",
            "['id', 'track_name', 'size_bytes', 'currency', 'price', 'rating_count_tot', 'rating_count_ver', 'user_rating', 'user_rating_ver', 'ver', 'cont_rating', 'prime_genre', 'sup_devices.num', 'ipadSc_urls.num', 'lang.num', 'vpp_lic']\n",
            "['389801252', 'Instagram', '113954816', 'USD', '0.0', '2161558', '1289', '4.5', '4.0', '10.23', '12+', 'Photo & Video', '37', '0', '29', '1']\n",
            "First two lines of the Google Play Store data set\n",
            "-------------------------------------------------\n",
            "['App', 'Category', 'Rating', 'Reviews', 'Size', 'Installs', 'Type', 'Price', 'Content Rating', 'Genres', 'Last Updated', 'Current Ver', 'Android Ver']\n",
            "['Coloring book moana', 'ART_AND_DESIGN', '3.9', '967', '14M', '500,000+', 'Free', '0', 'Everyone', 'Art & Design;Pretend Play', 'January 15, 2018', '2.0.0', '4.0.3 and up']\n"
          ],
          "name": "stdout"
        }
      ]
    },
    {
      "cell_type": "markdown",
      "metadata": {
        "id": "ZARbnJpAQyo5"
      },
      "source": [
        "## Part 1 Continued\r\n",
        "Next, we will need an inspection function to take a look at slices of the data as we clean it up."
      ],
      "id": "ZARbnJpAQyo5"
    },
    {
      "cell_type": "code",
      "metadata": {
        "colab": {
          "base_uri": "https://localhost:8080/"
        },
        "id": "IRR19dhtQ8SB",
        "outputId": "42686954-8a2f-46aa-dbb3-63ac57ffd275"
      },
      "source": [
        "# Take data set, start and end point of slice, and count columns as a parameter\r\n",
        "def explore_data(dataset, start, end, rows_and_columns=False):\r\n",
        "    dataset_slice = dataset[start:end]    \r\n",
        "    for row in dataset_slice:\r\n",
        "        print(row)\r\n",
        "        print('\\n') # adds a new (empty) line between rows\r\n",
        "        \r\n",
        "    if rows_and_columns:\r\n",
        "        print('Number of rows:', len(dataset))\r\n",
        "        print('Number of columns:', len(dataset[0]))\r\n",
        "\r\n",
        "print(android_header)\r\n",
        "print('\\n')\r\n",
        "explore_data(android, 0, 3, True)"
      ],
      "id": "IRR19dhtQ8SB",
      "execution_count": 8,
      "outputs": [
        {
          "output_type": "stream",
          "text": [
            "['App', 'Category', 'Rating', 'Reviews', 'Size', 'Installs', 'Type', 'Price', 'Content Rating', 'Genres', 'Last Updated', 'Current Ver', 'Android Ver']\n",
            "\n",
            "\n",
            "['Photo Editor & Candy Camera & Grid & ScrapBook', 'ART_AND_DESIGN', '4.1', '159', '19M', '10,000+', 'Free', '0', 'Everyone', 'Art & Design', 'January 7, 2018', '1.0.0', '4.0.3 and up']\n",
            "\n",
            "\n",
            "['Coloring book moana', 'ART_AND_DESIGN', '3.9', '967', '14M', '500,000+', 'Free', '0', 'Everyone', 'Art & Design;Pretend Play', 'January 15, 2018', '2.0.0', '4.0.3 and up']\n",
            "\n",
            "\n",
            "['U Launcher Lite – FREE Live Cool Themes, Hide Apps', 'ART_AND_DESIGN', '4.7', '87510', '8.7M', '5,000,000+', 'Free', '0', 'Everyone', 'Art & Design', 'August 1, 2018', '1.2.4', '4.0.3 and up']\n",
            "\n",
            "\n",
            "Number of rows: 10841\n",
            "Number of columns: 13\n"
          ],
          "name": "stdout"
        }
      ]
    },
    {
      "cell_type": "markdown",
      "metadata": {
        "id": "gn0NGPfeoxya"
      },
      "source": [
        "## Part 2 - Cleaning the Data\r\n",
        "\r\n",
        "### Deleting Rows\r\n",
        "This function shows a row and then asks if you want to deletes that row."
      ],
      "id": "gn0NGPfeoxya"
    },
    {
      "cell_type": "code",
      "metadata": {
        "id": "JNprGcC5pE4Q",
        "colab": {
          "base_uri": "https://localhost:8080/"
        },
        "outputId": "61a0787f-75c6-4014-c191-fd18dbd3bbf0"
      },
      "source": [
        "### TEST LIST OF LISTS ###\r\n",
        "#test_col = [\"col0\", \"col1\", \"col2\", \"col3\"]\r\n",
        "#test_row1 = [\"row1\", \"row1\", \"row1\", \"row1\"]\r\n",
        "#test_row2 = [\"row2\", \"row2\", \"row2\", \"row2\"]\r\n",
        "#test_list_of_list = [test_col, test_row1, test_row2]\r\n",
        "\r\n",
        "def del_row(data_set, row_index):\r\n",
        "  print(\"This is row \", row_index)\r\n",
        "  print(data_set[row_index])\r\n",
        "  choice = input(\"Delete this row? [y/n]\")\r\n",
        "  if choice == \"y\": # only one valid answer\r\n",
        "    del data_set[row_index]\r\n",
        "    print(\"I have deleted row\", row_index)\r\n",
        "    #return data_set #use for testing.\r\n",
        "  else: # else used so any other character results in no deletion \r\n",
        "    print(\"No action taken\")\r\n",
        "    #return data_set #use for testing.\r\n",
        "\r\n",
        "del_row(android,10472)\r\n"
      ],
      "id": "JNprGcC5pE4Q",
      "execution_count": 11,
      "outputs": [
        {
          "output_type": "stream",
          "text": [
            "This is row  10472\n",
            "['Life Made WI-Fi Touchscreen Photo Frame', '1.9', '19', '3.0M', '1,000+', 'Free', '0', 'Everyone', '', 'February 11, 2018', '1.0.19', '4.0 and up']\n",
            "Delete this row? [y/n]y\n",
            "I have deleted row 10472\n"
          ],
          "name": "stdout"
        }
      ]
    },
    {
      "cell_type": "markdown",
      "metadata": {
        "id": "61RegAbtsoVf"
      },
      "source": [
        "We can now use this function to delete the known error on row **10472 of the Android data set**.\r\n",
        "\r\n",
        "Since I'm not sure if the reported row counts to include the header row or not, we will use this function to inspect the row and delete if it matches the description: \"Life Made WI-Fi...\""
      ],
      "id": "61RegAbtsoVf"
    },
    {
      "cell_type": "code",
      "metadata": {
        "id": "h-KUgWQms7A9",
        "colab": {
          "base_uri": "https://localhost:8080/"
        },
        "outputId": "9bc67f86-e7ed-43e7-c833-0850ababf725"
      },
      "source": [
        "del_row(android, 10472)"
      ],
      "id": "h-KUgWQms7A9",
      "execution_count": null,
      "outputs": [
        {
          "output_type": "stream",
          "text": [
            "This is row  10472\n",
            "['Life Made WI-Fi Touchscreen Photo Frame', '1.9', '19', '3.0M', '1,000+', 'Free', '0', 'Everyone', '', 'February 11, 2018', '1.0.19', '4.0 and up']\n",
            "Delete this row? [y/n]y\n",
            "I have deleted row 10472\n"
          ],
          "name": "stdout"
        }
      ]
    },
    {
      "cell_type": "markdown",
      "metadata": {
        "id": "hpQdDegUt1Pr"
      },
      "source": [
        "### Duplicate Data Points\r\n",
        "Different versions of different apps, as well as updates, re-releases and scraping errors mean there may well be duplicate data points.\r\n",
        "\r\n",
        "Analysis and visualisation will be helped by ensuring each app only occurs once in the data set.\r\n",
        "\r\n",
        "The Android data set does indeed have multiple duplicates rows for the same application.\r\n",
        "\r\n",
        "### Count Duplicates\r\n",
        "This function counts the number of duplicate apps in the data set."
      ],
      "id": "hpQdDegUt1Pr"
    },
    {
      "cell_type": "code",
      "metadata": {
        "colab": {
          "base_uri": "https://localhost:8080/"
        },
        "id": "23_VdZIouhNQ",
        "outputId": "e86912b9-5114-4a9a-a155-024775e4b747"
      },
      "source": [
        "def find_dup(dataset):\r\n",
        "  duplicates = []\r\n",
        "  uniques = []\r\n",
        "  print(\"Total Rows:\",len(dataset))\r\n",
        "  for row in dataset:\r\n",
        "    #print(len(duplicates)) # debug line\r\n",
        "    #print(len(uniques)) # debug line\r\n",
        "    name = row[0]\r\n",
        "    #print(name) # debug line\r\n",
        "    #print(row) # debug line\r\n",
        "    if name in uniques:\r\n",
        "      duplicates.append(name)\r\n",
        "    else:\r\n",
        "      uniques.append(name)\r\n",
        "  print(\"Duplicate apps:\", len(duplicates))\r\n",
        "  print(\"Unique apps:\", len(uniques))\r\n",
        "  print(\"Checksum:\", len(duplicates)+len(uniques))\r\n",
        "  return\r\n",
        "\r\n",
        "find_dup(android)\r\n",
        "\r\n"
      ],
      "id": "23_VdZIouhNQ",
      "execution_count": 12,
      "outputs": [
        {
          "output_type": "stream",
          "text": [
            "Total Rows: 10840\n",
            "Duplicate apps: 1181\n",
            "Unique apps: 9659\n",
            "Checksum: 10840\n"
          ],
          "name": "stdout"
        }
      ]
    },
    {
      "cell_type": "markdown",
      "metadata": {
        "id": "yxody4mVzNC7"
      },
      "source": [
        "### Delete Duplicates\r\n",
        "Now we know they are there, we need to delete them.\r\n",
        "\r\n",
        "We will use two functions:\r\n",
        "* **fill_dict**: Creates a dictionary, where each dictionary key is a unique app name and the corresponding dictionary value is the highest number of reviews of that app.\r\n",
        "* **fill_new_dataset**: Use the information stored in the dictionary and create a new data set using the dictionary as an index."
      ],
      "id": "yxody4mVzNC7"
    },
    {
      "cell_type": "code",
      "metadata": {
        "id": "_AMiVfjTzoyR",
        "colab": {
          "base_uri": "https://localhost:8080/"
        },
        "outputId": "5a53acbd-d91e-4e2c-b04d-bcf1556e5957"
      },
      "source": [
        "\r\n",
        "def fill_dict(dataset, name, review):\r\n",
        "  u_dict = {}\r\n",
        "  for row in dataset:\r\n",
        "    app_name = row[name]\r\n",
        "    app_review = float(row[review])\r\n",
        "         \r\n",
        "    # If app not in u_dict then add it.\r\n",
        "    if (app_name not in u_dict):\r\n",
        "      u_dict[app_name] = app_review\r\n",
        "    # If app is in u_dict and higher review, replace it\r\n",
        "    elif (app_name in u_dict) and (app_review > u_dict.get(app_name)):\r\n",
        "      u_dict[app_name] = app_review\r\n",
        "  print(\"New unique dictionary contains:\", len(u_dict), \"keys with values.\")\r\n",
        "  return u_dict\r\n",
        "\r\n",
        "fill_dict(android, 0, 3)\r\n",
        "print(\"\\n\")\r\n"
      ],
      "id": "_AMiVfjTzoyR",
      "execution_count": 14,
      "outputs": [
        {
          "output_type": "stream",
          "text": [
            "New unique dictionary contains: 9659 keys with values.\n",
            "\n",
            "\n"
          ],
          "name": "stdout"
        }
      ]
    },
    {
      "cell_type": "code",
      "metadata": {
        "colab": {
          "base_uri": "https://localhost:8080/"
        },
        "id": "MXIrxKj5fyCJ",
        "outputId": "bad6189e-6a91-4c12-9d72-8e99130d5f5b"
      },
      "source": [
        "# Global scope\r\n",
        "clean_android = []\r\n",
        "clean_names = []\r\n",
        "\r\n",
        "def fill_new_dataset(index_dict, dataset):\r\n",
        "  # Loop through the raw dataset.\r\n",
        "  for row in dataset:\r\n",
        "    app_name = row[0] # Isolate the name for checking.\r\n",
        "    n_reviews = float(row[3])\r\n",
        "    # Attempt to match the number of reviews against the index dictionary returned from the fill_dict function.\r\n",
        "    # n_reviews is unique in both data sets so we take the high review value we found.\r\n",
        "    # Check if name has not been processed already.\r\n",
        "    if (index_dict[app_name] == n_reviews) and (app_name not in clean_names):\r\n",
        "      clean_android.append(row) # Copy to new clean dataset\r\n",
        "      clean_names.append(app_name) # Audit the name to make sure we don't have it already.\r\n",
        "  print(\"New unique dataset contains:\", len(clean_android), \"rows of data.\")\r\n",
        "  return clean_android\r\n",
        "\r\n",
        "fill_new_dataset(fill_dict(android, 0, 3), android)\r\n",
        "print(\"\\n\")\r\n",
        "print(\"Here's a couple of rows of the clean data_set:\")\r\n",
        "explore_data(clean_android, 5, 7, True)\r\n",
        "\r\n"
      ],
      "id": "MXIrxKj5fyCJ",
      "execution_count": 15,
      "outputs": [
        {
          "output_type": "stream",
          "text": [
            "New unique dictionary contains: 9659 keys with values.\n",
            "New unique dataset contains: 9659 rows of data.\n",
            "\n",
            "\n",
            "Here's a couple of rows of the clean data_set:\n",
            "['Smoke Effect Photo Maker - Smoke Editor', 'ART_AND_DESIGN', '3.8', '178', '19M', '50,000+', 'Free', '0', 'Everyone', 'Art & Design', 'April 26, 2018', '1.1', '4.0.3 and up']\n",
            "\n",
            "\n",
            "['Infinite Painter', 'ART_AND_DESIGN', '4.1', '36815', '29M', '1,000,000+', 'Free', '0', 'Everyone', 'Art & Design', 'June 14, 2018', '6.1.61.1', '4.2 and up']\n",
            "\n",
            "\n",
            "Number of rows: 9659\n",
            "Number of columns: 13\n"
          ],
          "name": "stdout"
        }
      ]
    },
    {
      "cell_type": "markdown",
      "metadata": {
        "id": "iXGO08Fmt47K"
      },
      "source": [
        "## Non-English Apps\r\n",
        "Removing non-English apps is important because the company develops English language apps so we don't want to analyse those from other countries.\r\n",
        "\r\n",
        "### Finding Non-English Apps\r\n",
        "We will use the ord(string) to indentity any non-English character by its ascii value (over 127).\r\n",
        "\r\n",
        "3 non-English characters is enough fidelity for our needs, though some may get through.\r\n",
        "\r\n",
        "Two nested for loops to go through the dataset row by row, and then the app name char by char."
      ],
      "id": "iXGO08Fmt47K"
    },
    {
      "cell_type": "code",
      "metadata": {
        "colab": {
          "base_uri": "https://localhost:8080/"
        },
        "id": "XZvieDdWuaA5",
        "outputId": "acd235e4-c504-4ef9-cccd-265f2ce1c785"
      },
      "source": [
        "# iOS and Android datasets have app names in different columns, so we need to \r\n",
        "# specify which column to look at as a parameter.\r\n",
        "def get_english(dataset, name_col):\r\n",
        "  non_english_names = [] # Two lists so we can check we have them all.\r\n",
        "  english_names = []\r\n",
        "  non_english_chars = 0\r\n",
        "  print(\"Total Rows:\",len(dataset))\r\n",
        "  for row in dataset: # Loop through the data set.\r\n",
        "    non_english_chars = 0\r\n",
        "    name = row[name_col]\r\n",
        "    for char in name: # Loop through each app name in each row.\r\n",
        "        if ord(char) > 127:\r\n",
        "          non_english_chars += 1 # Increment the counter of non-Eng chars.\r\n",
        "    if non_english_chars > 3:\r\n",
        "      non_english_names.append(row) # Append to the discard pile if non-Eng.\r\n",
        "    else:\r\n",
        "      english_names.append(row) # Append to the keep pile if Eng.\r\n",
        "  # Quality control. \r\n",
        "  print(\"Apps named in Non-English:\", len(non_english_names))\r\n",
        "  print(\"Apps named in English:\", len(english_names))\r\n",
        "  print(\"Checksum:\", len(non_english_names)+len(english_names))\r\n",
        "  return english_names\r\n",
        "\r\n",
        "\r\n",
        "eng_android = get_english(clean_android, 0)\r\n",
        "print(\"Android data set now has\", len(eng_android), \"rows.\")\r\n",
        "print(\"\\n\")\r\n",
        "eng_ios = get_english(ios, 1)\r\n",
        "print(\"iOS data set now has\", len(eng_ios), \"rows.\")\r\n"
      ],
      "id": "XZvieDdWuaA5",
      "execution_count": 25,
      "outputs": [
        {
          "output_type": "stream",
          "text": [
            "Total Rows: 9659\n",
            "Apps named in Non-English: 45\n",
            "Apps named in English: 9614\n",
            "Checksum: 9659\n",
            "Android data set now has 9614 rows.\n",
            "\n",
            "\n",
            "Total Rows: 7197\n",
            "Apps named in Non-English: 1014\n",
            "Apps named in English: 6183\n",
            "Checksum: 7197\n",
            "iOS data set now has 6183 rows.\n"
          ],
          "name": "stdout"
        }
      ]
    },
    {
      "cell_type": "markdown",
      "metadata": {
        "id": "Y4bPPrfMTfdB"
      },
      "source": [
        ""
      ],
      "id": "Y4bPPrfMTfdB"
    }
  ]
}