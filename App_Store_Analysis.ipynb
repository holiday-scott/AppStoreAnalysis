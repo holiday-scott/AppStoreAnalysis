{
  "nbformat": 4,
  "nbformat_minor": 5,
  "metadata": {
    "kernelspec": {
      "display_name": "Python 3",
      "language": "python",
      "name": "python3"
    },
    "language_info": {
      "codemirror_mode": {
        "name": "ipython",
        "version": 3
      },
      "file_extension": ".py",
      "mimetype": "text/x-python",
      "name": "python",
      "nbconvert_exporter": "python",
      "pygments_lexer": "ipython3",
      "version": "3.8.5"
    },
    "colab": {
      "name": "App_Store_Analysis.ipynb",
      "provenance": [],
      "collapsed_sections": [],
      "include_colab_link": true
    }
  },
  "cells": [
    {
      "cell_type": "markdown",
      "metadata": {
        "id": "view-in-github",
        "colab_type": "text"
      },
      "source": [
        "<a href=\"https://colab.research.google.com/github/holiday-scott/AppStoreAnalysis/blob/main/App_Store_Analysis.ipynb\" target=\"_parent\"><img src=\"https://colab.research.google.com/assets/colab-badge.svg\" alt=\"Open In Colab\"/></a>"
      ]
    },
    {
      "cell_type": "markdown",
      "metadata": {
        "id": "inappropriate-sapphire"
      },
      "source": [
        "## Most Profitable Free Apps on Google Play and Apple Store\n",
        "\n",
        "#### Introduction\n",
        "This is the first project in the Data Analyst in Python learning pathway with DataQuest.\n",
        "\n",
        "#### Scenario\n",
        "I am doing data analysis for a company that builds Android and iOS mobile apps. The company only makes apps that are free to download and install, so the main source of revenue consists of in-app ads. This means revenue for any given app is mostly influenced by the number of users who use the app — the more users that see and engage with the ads, the better. \n",
        "\n",
        "#### Goal\n",
        "To understand what type of apps are likely to attract more users.\n",
        "\n",
        "#### Dataset\n",
        "* Apple Store: [This data set](https://www.kaggle.com/ramamet4/app-store-apple-data-set-10k-apps) contains more than 7000 Apple iOS mobile application details.\n",
        "* Play Store: [This data set](https://www.kaggle.com/lava18/google-play-store-apps) contains more than 10000 mobile applicationd details.\n",
        "\n",
        "## Part 1 - Prepration\n",
        "First we mount Google Drive and read in the data sets.\n",
        "\n"
      ],
      "id": "inappropriate-sapphire"
    },
    {
      "cell_type": "code",
      "metadata": {
        "colab": {
          "base_uri": "https://localhost:8080/"
        },
        "id": "QZJGkX5GLfzW",
        "outputId": "d2fed3e3-9193-41ec-9c39-22bfc11e17bf"
      },
      "source": [
        "# Mount Google.\r\n",
        "from google.colab import drive\r\n",
        "drive.mount(\"/content/gdrive\", force_remount=True)\r\n",
        "#drive.flush_and_unmount()\r\n",
        "\r\n",
        "# Load reader modules\r\n",
        "from csv import reader\r\n",
        "\r\n",
        "# Find out where the data is.\r\n",
        "#!ls \"gdrive/MyDrive/Colab Notebooks/p1/\"\r\n",
        "\r\n",
        "### Google Play Data Set ###\r\n",
        "opened_file = open('gdrive/MyDrive/Colab Notebooks/p1/PlayStore.csv')\r\n",
        "read_file = reader(opened_file)\r\n",
        "android = list(read_file)\r\n",
        "\r\n",
        "android_header = android[0]\r\n",
        "android = android[1:]\r\n",
        "\r\n",
        "opened_file = open('gdrive/MyDrive/Colab Notebooks/p1/AppleStore.csv')\r\n",
        "read_file = reader(opened_file)\r\n",
        "ios = list(read_file)\r\n",
        "ios_header = ios[0]\r\n",
        "ios = ios[1:]\r\n",
        "\r\n",
        "# Show the first two lines of each data set\r\n",
        "print(\"\\n\")\r\n",
        "print(\"First two lines of the Apple Store data set\")\r\n",
        "print(\"-------------------------------------------\")\r\n",
        "print(ios_header)\r\n",
        "print(ios[1])\r\n",
        "print(\"\\n\")\r\n",
        "print(\"First two lines of the Google Play Store data set\")\r\n",
        "print(\"-------------------------------------------------\")\r\n",
        "print(android_header)\r\n",
        "print(android[1])\r\n",
        "print(\"\\n\")"
      ],
      "id": "QZJGkX5GLfzW",
      "execution_count": 236,
      "outputs": [
        {
          "output_type": "stream",
          "text": [
            "Mounted at /content/gdrive\n",
            "\n",
            "\n",
            "First two lines of the Apple Store data set\n",
            "-------------------------------------------\n",
            "['id', 'track_name', 'size_bytes', 'currency', 'price', 'rating_count_tot', 'rating_count_ver', 'user_rating', 'user_rating_ver', 'ver', 'cont_rating', 'prime_genre', 'sup_devices.num', 'ipadSc_urls.num', 'lang.num', 'vpp_lic']\n",
            "['389801252', 'Instagram', '113954816', 'USD', '0.0', '2161558', '1289', '4.5', '4.0', '10.23', '12+', 'Photo & Video', '37', '0', '29', '1']\n",
            "\n",
            "\n",
            "First two lines of the Google Play Store data set\n",
            "-------------------------------------------------\n",
            "['App', 'Category', 'Rating', 'Reviews', 'Size', 'Installs', 'Type', 'Price', 'Content Rating', 'Genres', 'Last Updated', 'Current Ver', 'Android Ver']\n",
            "['Coloring book moana', 'ART_AND_DESIGN', '3.9', '967', '14M', '500,000+', 'Free', '0', 'Everyone', 'Art & Design;Pretend Play', 'January 15, 2018', '2.0.0', '4.0.3 and up']\n",
            "\n",
            "\n"
          ],
          "name": "stdout"
        }
      ]
    },
    {
      "cell_type": "markdown",
      "metadata": {
        "id": "ZARbnJpAQyo5"
      },
      "source": [
        "## Part 1 Continued\r\n",
        "Next, we will need an inspection function to take a look at slices of the data as we clean it up."
      ],
      "id": "ZARbnJpAQyo5"
    },
    {
      "cell_type": "code",
      "metadata": {
        "colab": {
          "base_uri": "https://localhost:8080/"
        },
        "id": "IRR19dhtQ8SB",
        "outputId": "3a6471c6-8179-4474-afe7-b1306f88257b"
      },
      "source": [
        "# Take data set, start and end point of slice, and count columns as a parameter\r\n",
        "def explore_data(dataset, start, end, rows_and_columns=False):\r\n",
        "    dataset_slice = dataset[start:end]    \r\n",
        "    for row in dataset_slice:\r\n",
        "        print(row)\r\n",
        "        print('\\n') # adds a new (empty) line between rows\r\n",
        "        \r\n",
        "    if rows_and_columns:\r\n",
        "        print('Number of rows:', len(dataset))\r\n",
        "        print('Number of columns:', len(dataset[0]))\r\n",
        "\r\n",
        "print(android_header)\r\n",
        "print('\\n')\r\n",
        "explore_data(android, 0, 3, True)"
      ],
      "id": "IRR19dhtQ8SB",
      "execution_count": 237,
      "outputs": [
        {
          "output_type": "stream",
          "text": [
            "['App', 'Category', 'Rating', 'Reviews', 'Size', 'Installs', 'Type', 'Price', 'Content Rating', 'Genres', 'Last Updated', 'Current Ver', 'Android Ver']\n",
            "\n",
            "\n",
            "['Photo Editor & Candy Camera & Grid & ScrapBook', 'ART_AND_DESIGN', '4.1', '159', '19M', '10,000+', 'Free', '0', 'Everyone', 'Art & Design', 'January 7, 2018', '1.0.0', '4.0.3 and up']\n",
            "\n",
            "\n",
            "['Coloring book moana', 'ART_AND_DESIGN', '3.9', '967', '14M', '500,000+', 'Free', '0', 'Everyone', 'Art & Design;Pretend Play', 'January 15, 2018', '2.0.0', '4.0.3 and up']\n",
            "\n",
            "\n",
            "['U Launcher Lite – FREE Live Cool Themes, Hide Apps', 'ART_AND_DESIGN', '4.7', '87510', '8.7M', '5,000,000+', 'Free', '0', 'Everyone', 'Art & Design', 'August 1, 2018', '1.2.4', '4.0.3 and up']\n",
            "\n",
            "\n",
            "Number of rows: 10841\n",
            "Number of columns: 13\n"
          ],
          "name": "stdout"
        }
      ]
    },
    {
      "cell_type": "markdown",
      "metadata": {
        "id": "gn0NGPfeoxya"
      },
      "source": [
        "## Part 2 - Cleaning the Data\r\n",
        "\r\n",
        "### Deleting Rows\r\n",
        "This function shows a row and then asks if you want to deletes that row."
      ],
      "id": "gn0NGPfeoxya"
    },
    {
      "cell_type": "code",
      "metadata": {
        "id": "JNprGcC5pE4Q"
      },
      "source": [
        "def del_row(data_set, row_index):\r\n",
        "  print(\"This is row \", row_index)\r\n",
        "  print(data_set[row_index])\r\n",
        "  choice = input(\"Delete this row? [y/n]\")\r\n",
        "  if choice == \"y\": # only one valid answer\r\n",
        "    del data_set[row_index]\r\n",
        "    print(\"I have deleted row\", row_index)\r\n",
        "    #return data_set #use for testing.\r\n",
        "  else: # else used so any other character results in no deletion \r\n",
        "    print(\"No action taken\")\r\n",
        "    #return data_set #use for testing.\r\n"
      ],
      "id": "JNprGcC5pE4Q",
      "execution_count": 238,
      "outputs": []
    },
    {
      "cell_type": "markdown",
      "metadata": {
        "id": "61RegAbtsoVf"
      },
      "source": [
        "We can now use this function to delete the known error on row **10472 of the Android data set**.\r\n",
        "\r\n",
        "Since I'm not sure if the reported row counts to include the header row or not, we will use this function to inspect the row and delete if it matches the description: \"Life Made WI-Fi...\""
      ],
      "id": "61RegAbtsoVf"
    },
    {
      "cell_type": "code",
      "metadata": {
        "id": "-GM56J9vB6wj",
        "colab": {
          "base_uri": "https://localhost:8080/"
        },
        "outputId": "c9fc8c18-87f0-494f-fbd5-28a945869a22"
      },
      "source": [
        "del_row(android,10472)"
      ],
      "id": "-GM56J9vB6wj",
      "execution_count": 239,
      "outputs": [
        {
          "output_type": "stream",
          "text": [
            "This is row  10472\n",
            "['Life Made WI-Fi Touchscreen Photo Frame', '1.9', '19', '3.0M', '1,000+', 'Free', '0', 'Everyone', '', 'February 11, 2018', '1.0.19', '4.0 and up']\n",
            "Delete this row? [y/n]y\n",
            "I have deleted row 10472\n"
          ],
          "name": "stdout"
        }
      ]
    },
    {
      "cell_type": "markdown",
      "metadata": {
        "id": "hpQdDegUt1Pr"
      },
      "source": [
        "### Duplicate Data Points\r\n",
        "Different versions of different apps, as well as updates, re-releases and scraping errors mean there may well be duplicate data points.\r\n",
        "\r\n",
        "Analysis and visualisation will be helped by ensuring each app only occurs once in the data set.\r\n",
        "\r\n",
        "The Android data set does indeed have multiple duplicates rows for the same application.\r\n",
        "\r\n",
        "### Count Duplicates\r\n",
        "This function counts the number of duplicate apps in the data set."
      ],
      "id": "hpQdDegUt1Pr"
    },
    {
      "cell_type": "code",
      "metadata": {
        "colab": {
          "base_uri": "https://localhost:8080/"
        },
        "id": "23_VdZIouhNQ",
        "outputId": "90899964-d8aa-464b-8679-a36e1e590c16"
      },
      "source": [
        "def find_dup(dataset):\r\n",
        "  duplicates = []\r\n",
        "  uniques = []\r\n",
        "  print(\"Total Rows:\",len(dataset))\r\n",
        "  for row in dataset:\r\n",
        "    #print(len(duplicates)) # debug line\r\n",
        "    #print(len(uniques)) # debug line\r\n",
        "    name = row[0]\r\n",
        "    #print(name) # debug line\r\n",
        "    #print(row) # debug line\r\n",
        "    if name in uniques:\r\n",
        "      duplicates.append(name)\r\n",
        "    else:\r\n",
        "      uniques.append(name)\r\n",
        "  print(\"Duplicate apps:\", len(duplicates))\r\n",
        "  print(\"Unique apps:\", len(uniques))\r\n",
        "  print(\"Checksum:\", len(duplicates)+len(uniques))\r\n",
        "  return\r\n",
        "\r\n",
        "find_dup(android)\r\n",
        "\r\n"
      ],
      "id": "23_VdZIouhNQ",
      "execution_count": 240,
      "outputs": [
        {
          "output_type": "stream",
          "text": [
            "Total Rows: 10840\n",
            "Duplicate apps: 1181\n",
            "Unique apps: 9659\n",
            "Checksum: 10840\n"
          ],
          "name": "stdout"
        }
      ]
    },
    {
      "cell_type": "markdown",
      "metadata": {
        "id": "yxody4mVzNC7"
      },
      "source": [
        "### Delete Duplicates\r\n",
        "Now we know they are there, we need to delete them.\r\n",
        "\r\n",
        "We will use two functions:\r\n",
        "* **fill_dict**: Creates a dictionary, where each dictionary key is a unique app name and the corresponding dictionary value is the highest number of reviews of that app.\r\n",
        "* **fill_new_dataset**: Use the information stored in the dictionary and create a new data set using the dictionary as an index."
      ],
      "id": "yxody4mVzNC7"
    },
    {
      "cell_type": "code",
      "metadata": {
        "id": "_AMiVfjTzoyR",
        "colab": {
          "base_uri": "https://localhost:8080/"
        },
        "outputId": "069411e3-9213-4bc3-854b-f4f13b31f770"
      },
      "source": [
        "\r\n",
        "def fill_dict(dataset, name, review):\r\n",
        "  u_dict = {}\r\n",
        "  for row in dataset:\r\n",
        "    app_name = row[name]\r\n",
        "    app_review = float(row[review])\r\n",
        "         \r\n",
        "    # If app not in u_dict then add it.\r\n",
        "    if (app_name not in u_dict):\r\n",
        "      u_dict[app_name] = app_review\r\n",
        "    # If app is in u_dict and higher review, replace it\r\n",
        "    elif (app_name in u_dict) and (app_review > u_dict.get(app_name)):\r\n",
        "      u_dict[app_name] = app_review\r\n",
        "  print(\"New unique dictionary contains:\", len(u_dict), \"keys with values.\")\r\n",
        "  return u_dict\r\n",
        "\r\n",
        "fill_dict(android, 0, 3)\r\n",
        "print(\"\\n\")\r\n"
      ],
      "id": "_AMiVfjTzoyR",
      "execution_count": 241,
      "outputs": [
        {
          "output_type": "stream",
          "text": [
            "New unique dictionary contains: 9659 keys with values.\n",
            "\n",
            "\n"
          ],
          "name": "stdout"
        }
      ]
    },
    {
      "cell_type": "code",
      "metadata": {
        "colab": {
          "base_uri": "https://localhost:8080/"
        },
        "id": "MXIrxKj5fyCJ",
        "outputId": "328471de-7949-4788-f8e4-d548ddb68530"
      },
      "source": [
        "# Global scope\r\n",
        "clean_android = []\r\n",
        "clean_names = []\r\n",
        "\r\n",
        "def fill_new_dataset(index_dict, dataset):\r\n",
        "  # Loop through the raw dataset.\r\n",
        "  for row in dataset:\r\n",
        "    app_name = row[0] # Isolate the name for checking.\r\n",
        "    n_reviews = float(row[3])\r\n",
        "    # Attempt to match the number of reviews against the index dictionary returned from the fill_dict function.\r\n",
        "    # n_reviews is unique in both data sets so we take the high review value we found.\r\n",
        "    # Check if name has not been processed already.\r\n",
        "    if (index_dict[app_name] == n_reviews) and (app_name not in clean_names):\r\n",
        "      clean_android.append(row) # Copy to new clean dataset\r\n",
        "      clean_names.append(app_name) # Audit the name to make sure we don't have it already.\r\n",
        "  print(\"New unique dataset contains:\", len(clean_android), \"rows of data.\")\r\n",
        "  return clean_android\r\n",
        "\r\n",
        "fill_new_dataset(fill_dict(android, 0, 3), android)\r\n",
        "print(\"\\n\")\r\n",
        "print(\"Here's a couple of rows of the clean data_set:\")\r\n",
        "explore_data(clean_android, 5, 7, True)\r\n",
        "\r\n"
      ],
      "id": "MXIrxKj5fyCJ",
      "execution_count": 242,
      "outputs": [
        {
          "output_type": "stream",
          "text": [
            "New unique dictionary contains: 9659 keys with values.\n",
            "New unique dataset contains: 9659 rows of data.\n",
            "\n",
            "\n",
            "Here's a couple of rows of the clean data_set:\n",
            "['Smoke Effect Photo Maker - Smoke Editor', 'ART_AND_DESIGN', '3.8', '178', '19M', '50,000+', 'Free', '0', 'Everyone', 'Art & Design', 'April 26, 2018', '1.1', '4.0.3 and up']\n",
            "\n",
            "\n",
            "['Infinite Painter', 'ART_AND_DESIGN', '4.1', '36815', '29M', '1,000,000+', 'Free', '0', 'Everyone', 'Art & Design', 'June 14, 2018', '6.1.61.1', '4.2 and up']\n",
            "\n",
            "\n",
            "Number of rows: 9659\n",
            "Number of columns: 13\n"
          ],
          "name": "stdout"
        }
      ]
    },
    {
      "cell_type": "markdown",
      "metadata": {
        "id": "iXGO08Fmt47K"
      },
      "source": [
        "### Non-English Apps\r\n",
        "Removing non-English apps is important because the company develops English language apps so we don't want to analyse those from other countries.\r\n",
        "\r\n",
        "We will use the ord(string) to indentity any non-English character by its ascii value (over 127).\r\n",
        "\r\n",
        "3 non-English characters is enough fidelity for our needs, though some may get through.\r\n",
        "\r\n",
        "And so we filter with two nested for loops: one to go through the dataset row by row, and inside that one to cycle through the app name char by char."
      ],
      "id": "iXGO08Fmt47K"
    },
    {
      "cell_type": "code",
      "metadata": {
        "colab": {
          "base_uri": "https://localhost:8080/"
        },
        "id": "XZvieDdWuaA5",
        "outputId": "0ae8513c-2da9-49cb-c87d-b5f318978d00"
      },
      "source": [
        "# iOS and Android datasets have app names in different columns, so we need to \r\n",
        "# specify which column to look at as a parameter.\r\n",
        "def get_english(dataset, name_col):\r\n",
        "  non_english_names = [] # Two lists so we can check we have them all.\r\n",
        "  english_names = []\r\n",
        "  non_english_chars = 0\r\n",
        "  print(\"Total Rows:\",len(dataset))\r\n",
        "  for row in dataset: # Loop through the data set.\r\n",
        "    non_english_chars = 0\r\n",
        "    name = row[name_col]\r\n",
        "    for char in name: # Loop through each app name in each row.\r\n",
        "        if ord(char) > 127:\r\n",
        "          non_english_chars += 1 # Increment the counter of non-Eng chars.\r\n",
        "    if non_english_chars > 3:\r\n",
        "      non_english_names.append(row) # Append to the discard pile if non-Eng.\r\n",
        "    else:\r\n",
        "      english_names.append(row) # Append to the keep pile if Eng.\r\n",
        "  # Quality control. \r\n",
        "  print(\"Apps named in Non-English:\", len(non_english_names))\r\n",
        "  print(\"Apps named in English:\", len(english_names))\r\n",
        "  print(\"Checksum:\", len(non_english_names)+len(english_names))\r\n",
        "  return english_names\r\n",
        "\r\n",
        "\r\n",
        "eng_android = get_english(clean_android, 0)\r\n",
        "print(\"Android data set now has\", len(eng_android), \"rows and is called eng_android.\")\r\n",
        "print(\"\\n\")\r\n",
        "eng_ios = get_english(ios, 1)\r\n",
        "print(\"iOS data set now has\", len(eng_ios), \"rows and is called eng_ios.\")\r\n"
      ],
      "id": "XZvieDdWuaA5",
      "execution_count": 243,
      "outputs": [
        {
          "output_type": "stream",
          "text": [
            "Total Rows: 9659\n",
            "Apps named in Non-English: 45\n",
            "Apps named in English: 9614\n",
            "Checksum: 9659\n",
            "Android data set now has 9614 rows and is called eng_android.\n",
            "\n",
            "\n",
            "Total Rows: 7197\n",
            "Apps named in Non-English: 1014\n",
            "Apps named in English: 6183\n",
            "Checksum: 7197\n",
            "iOS data set now has 6183 rows and is called eng_ios.\n"
          ],
          "name": "stdout"
        }
      ]
    },
    {
      "cell_type": "markdown",
      "metadata": {
        "id": "Y4bPPrfMTfdB"
      },
      "source": [
        "## Part 3 - Free Apps\r\n",
        "The company only builds free apps, so there is no point in analysing paid for apps.\r\n",
        "\r\n",
        "Both datasets now need to be filtered again - this time to keep only free apps.\r\n",
        "\r\n"
      ],
      "id": "Y4bPPrfMTfdB"
    },
    {
      "cell_type": "code",
      "metadata": {
        "colab": {
          "base_uri": "https://localhost:8080/"
        },
        "id": "po-adH0-ZiNs",
        "outputId": "632c39e2-e330-46db-b004-5c1b5183a50c"
      },
      "source": [
        "print(ios_header)\r\n",
        "print(android_header)\r\n",
        "print(\"\\n\")\r\n",
        "print(eng_ios[0])\r\n",
        "print(eng_android[0])"
      ],
      "id": "po-adH0-ZiNs",
      "execution_count": 244,
      "outputs": [
        {
          "output_type": "stream",
          "text": [
            "['id', 'track_name', 'size_bytes', 'currency', 'price', 'rating_count_tot', 'rating_count_ver', 'user_rating', 'user_rating_ver', 'ver', 'cont_rating', 'prime_genre', 'sup_devices.num', 'ipadSc_urls.num', 'lang.num', 'vpp_lic']\n",
            "['App', 'Category', 'Rating', 'Reviews', 'Size', 'Installs', 'Type', 'Price', 'Content Rating', 'Genres', 'Last Updated', 'Current Ver', 'Android Ver']\n",
            "\n",
            "\n",
            "['284882215', 'Facebook', '389879808', 'USD', '0.0', '2974676', '212', '3.5', '3.5', '95.0', '4+', 'Social Networking', '37', '1', '29', '1']\n",
            "['Photo Editor & Candy Camera & Grid & ScrapBook', 'ART_AND_DESIGN', '4.1', '159', '19M', '10,000+', 'Free', '0', 'Everyone', 'Art & Design', 'January 7, 2018', '1.0.0', '4.0.3 and up']\n"
          ],
          "name": "stdout"
        }
      ]
    },
    {
      "cell_type": "markdown",
      "metadata": {
        "id": "5lvtThKuZtnr"
      },
      "source": [
        "We need to look at:\r\n",
        "- Column index **4** in the **eng_ios** dataset\r\n",
        "- Column index **6** in the **eng_android** dataset\r\n",
        "\r\n",
        "The function logic is essentially the same as get_english and will result in two new datasets: **free_eng_ios** and **free_eng_android**.\r\n",
        "\r\n",
        "Criteria for the filter are different in each dataset:\r\n",
        "- iOS: type is float equal to 0.\r\n",
        "- Android: type is string equal to 'Free'.\r\n",
        "\r\n",
        "For simplicity, we'll use two functions:\r\n",
        "- get_free_ios()\r\n",
        "- get_free_android()"
      ],
      "id": "5lvtThKuZtnr"
    },
    {
      "cell_type": "code",
      "metadata": {
        "colab": {
          "base_uri": "https://localhost:8080/"
        },
        "id": "PtFBArcxaMwx",
        "outputId": "da385bde-dd39-4bb0-dbf2-c827c1bb636a"
      },
      "source": [
        "def get_free_ios(dataset):\r\n",
        "  paid = []\r\n",
        "  free = []\r\n",
        "  for app in dataset:\r\n",
        "    price = app[4]\r\n",
        "    if float(price) > 0.0:\r\n",
        "      paid.append(app)\r\n",
        "    else:\r\n",
        "      free.append(app)\r\n",
        "  print(\"Total apps:\", len(dataset))\r\n",
        "  print(\"Paid apps:\", len(paid))\r\n",
        "  print(\"Free apps:\", len(free))\r\n",
        "  print(\"Checksum:\", len(paid) + len(free))\r\n",
        "  return free\r\n",
        "\r\n",
        "\r\n",
        "def get_free_android(dataset):\r\n",
        "  paid = []\r\n",
        "  free = []\r\n",
        "  for app in dataset:\r\n",
        "    price = app[6]\r\n",
        "    if price == \"Paid\":\r\n",
        "      paid.append(app)\r\n",
        "    else:\r\n",
        "      free.append(app)\r\n",
        "  print(\"Total apps:\", len(dataset))\r\n",
        "  print(\"Paid apps:\", len(paid))\r\n",
        "  print(\"Free apps:\", len(free))\r\n",
        "  print(\"Checksum:\", len(paid) + len(free))\r\n",
        "  return free\r\n",
        "\r\n",
        "free_eng_android = get_free_android(eng_android)\r\n",
        "print(\"Free Android apps:\", len(free_eng_android))\r\n",
        "print(\"\\n\")\r\n",
        "free_eng_ios = get_free_ios(eng_ios)\r\n",
        "print(\"Free iOS apps:\", len(free_eng_ios))\r\n",
        "print(\"\\n\")\r\n",
        "\r\n"
      ],
      "id": "PtFBArcxaMwx",
      "execution_count": 245,
      "outputs": [
        {
          "output_type": "stream",
          "text": [
            "Total apps: 9614\n",
            "Paid apps: 750\n",
            "Free apps: 8864\n",
            "Checksum: 9614\n",
            "Free Android apps: 8864\n",
            "\n",
            "\n",
            "Total apps: 6183\n",
            "Paid apps: 2961\n",
            "Free apps: 3222\n",
            "Checksum: 6183\n",
            "Free iOS apps: 3222\n",
            "\n",
            "\n"
          ],
          "name": "stdout"
        }
      ]
    },
    {
      "cell_type": "markdown",
      "metadata": {
        "id": "AAIKjc5ph0Fv"
      },
      "source": [
        "## App Popularity\r\n",
        "Because our end goal is to add the app on both Google Play and the App Store, we need to find app profiles that are successful on both markets.\r\n",
        "\r\n",
        "The columns which could be fruitful are:\r\n",
        "- iOS: **Genre** (index **11**)\r\n",
        "- Android: **Category** (index **1**) and **genre** (index **9**)\r\n",
        "\r\n",
        "### Frequency Table\r\n",
        "Analysis will start with a frequency table.\r\n",
        "\r\n",
        "The function **freq_table** will return a dictionary frequency table given dataset and column as a parameter.\r\n",
        "\r\n",
        "\r\n"
      ],
      "id": "AAIKjc5ph0Fv"
    },
    {
      "cell_type": "code",
      "metadata": {
        "colab": {
          "base_uri": "https://localhost:8080/"
        },
        "id": "6mYQCHVWjp2X",
        "outputId": "e7213059-430f-473f-9628-485f2472d0b8"
      },
      "source": [
        "def freq_table(dataset, column):\r\n",
        "  freq_table = {}\r\n",
        "  counter = 0\r\n",
        "  for row in dataset:\r\n",
        "    if row[column] not in freq_table:\r\n",
        "      freq_table[row[column]] = 1\r\n",
        "    elif row[column] in freq_table:\r\n",
        "      counter = freq_table.get(row[column]) + 1\r\n",
        "      freq_table[row[column]] = counter\r\n",
        "  return freq_table\r\n",
        "\r\n",
        "android_category_dict = freq_table(free_eng_android, 1)\r\n",
        "print(\"Frequency table created for Android Category\")\r\n",
        "print(\"This many rows were parsed:\", sum(android_category_dict.values()))\r\n",
        "print(android_category_dict)\r\n",
        "print(\"\\n\")\r\n",
        "android_genre_dict = freq_table(free_eng_android, 9)\r\n",
        "print(\"Frequency table created for Android Genre\")\r\n",
        "print(\"This many rows were parsed:\", sum(android_genre_dict.values()))\r\n",
        "print(android_genre_dict)\r\n",
        "print(\"\\n\")\r\n",
        "ios_genre_dict = freq_table(free_eng_ios, 11)\r\n",
        "print(\"Frequency table created for iOS genre\")\r\n",
        "print(\"This many rows were parsed:\", sum(ios_genre_dict.values()))\r\n",
        "print(ios_genre_dict)"
      ],
      "id": "6mYQCHVWjp2X",
      "execution_count": 246,
      "outputs": [
        {
          "output_type": "stream",
          "text": [
            "Frequency table created for Android Category\n",
            "This many rows were parsed: 8864\n",
            "{'ART_AND_DESIGN': 57, 'AUTO_AND_VEHICLES': 82, 'BEAUTY': 53, 'BOOKS_AND_REFERENCE': 190, 'BUSINESS': 407, 'COMICS': 55, 'COMMUNICATION': 287, 'DATING': 165, 'EDUCATION': 103, 'ENTERTAINMENT': 85, 'EVENTS': 63, 'FINANCE': 328, 'FOOD_AND_DRINK': 110, 'HEALTH_AND_FITNESS': 273, 'HOUSE_AND_HOME': 73, 'LIBRARIES_AND_DEMO': 83, 'LIFESTYLE': 346, 'GAME': 862, 'FAMILY': 1676, 'MEDICAL': 313, 'SOCIAL': 236, 'SHOPPING': 199, 'PHOTOGRAPHY': 261, 'SPORTS': 301, 'TRAVEL_AND_LOCAL': 207, 'TOOLS': 750, 'PERSONALIZATION': 294, 'PRODUCTIVITY': 345, 'PARENTING': 58, 'WEATHER': 71, 'VIDEO_PLAYERS': 159, 'NEWS_AND_MAGAZINES': 248, 'MAPS_AND_NAVIGATION': 124}\n",
            "\n",
            "\n",
            "Frequency table created for Android Genre\n",
            "This many rows were parsed: 8864\n",
            "{'Art & Design': 53, 'Art & Design;Creativity': 6, 'Auto & Vehicles': 82, 'Beauty': 53, 'Books & Reference': 190, 'Business': 407, 'Comics': 54, 'Comics;Creativity': 1, 'Communication': 287, 'Dating': 165, 'Education': 474, 'Education;Creativity': 4, 'Education;Education': 30, 'Education;Pretend Play': 5, 'Education;Brain Games': 3, 'Entertainment': 538, 'Entertainment;Brain Games': 7, 'Entertainment;Creativity': 3, 'Entertainment;Music & Video': 15, 'Events': 63, 'Finance': 328, 'Food & Drink': 110, 'Health & Fitness': 273, 'House & Home': 73, 'Libraries & Demo': 83, 'Lifestyle': 345, 'Lifestyle;Pretend Play': 1, 'Card': 40, 'Arcade': 164, 'Puzzle': 100, 'Racing': 88, 'Sports': 307, 'Casual': 156, 'Simulation': 181, 'Adventure': 60, 'Trivia': 37, 'Action': 275, 'Word': 23, 'Role Playing': 83, 'Strategy': 81, 'Board': 34, 'Music': 18, 'Action;Action & Adventure': 9, 'Casual;Brain Games': 12, 'Educational;Creativity': 3, 'Puzzle;Brain Games': 15, 'Educational;Education': 35, 'Casual;Pretend Play': 21, 'Educational;Brain Games': 6, 'Art & Design;Pretend Play': 1, 'Educational;Pretend Play': 8, 'Entertainment;Education': 1, 'Casual;Education': 2, 'Casual;Creativity': 6, 'Casual;Action & Adventure': 12, 'Music;Music & Video': 2, 'Arcade;Pretend Play': 1, 'Adventure;Action & Adventure': 3, 'Role Playing;Action & Adventure': 3, 'Simulation;Pretend Play': 2, 'Puzzle;Creativity': 2, 'Simulation;Action & Adventure': 7, 'Racing;Action & Adventure': 15, 'Sports;Action & Adventure': 2, 'Educational;Action & Adventure': 3, 'Arcade;Action & Adventure': 11, 'Entertainment;Action & Adventure': 3, 'Art & Design;Action & Adventure': 1, 'Puzzle;Action & Adventure': 3, 'Education;Action & Adventure': 3, 'Strategy;Action & Adventure': 1, 'Music & Audio;Music & Video': 1, 'Health & Fitness;Education': 1, 'Board;Action & Adventure': 2, 'Board;Brain Games': 7, 'Casual;Music & Video': 1, 'Education;Music & Video': 3, 'Role Playing;Pretend Play': 4, 'Entertainment;Pretend Play': 2, 'Medical': 313, 'Social': 236, 'Shopping': 199, 'Photography': 261, 'Travel & Local': 206, 'Travel & Local;Action & Adventure': 1, 'Tools': 749, 'Tools;Education': 1, 'Personalization': 294, 'Productivity': 345, 'Parenting': 44, 'Parenting;Music & Video': 6, 'Parenting;Education': 7, 'Parenting;Brain Games': 1, 'Weather': 71, 'Video Players & Editors': 157, 'Video Players & Editors;Music & Video': 2, 'Video Players & Editors;Creativity': 1, 'News & Magazines': 248, 'Maps & Navigation': 124, 'Health & Fitness;Action & Adventure': 1, 'Educational': 33, 'Casino': 38, 'Trivia;Education': 1, 'Lifestyle;Education': 1, 'Card;Action & Adventure': 1, 'Books & Reference;Education': 1, 'Simulation;Education': 1, 'Puzzle;Education': 1, 'Adventure;Education': 1, 'Role Playing;Brain Games': 1, 'Strategy;Education': 1, 'Racing;Pretend Play': 1, 'Communication;Creativity': 1, 'Strategy;Creativity': 1}\n",
            "\n",
            "\n",
            "Frequency table created for iOS genre\n",
            "This many rows were parsed: 3222\n",
            "{'Social Networking': 106, 'Photo & Video': 160, 'Games': 1874, 'Music': 66, 'Reference': 18, 'Health & Fitness': 65, 'Weather': 28, 'Utilities': 81, 'Travel': 40, 'Shopping': 84, 'News': 43, 'Navigation': 6, 'Lifestyle': 51, 'Entertainment': 254, 'Food & Drink': 26, 'Sports': 69, 'Book': 14, 'Finance': 36, 'Education': 118, 'Productivity': 56, 'Business': 17, 'Catalogs': 4, 'Medical': 6}\n"
          ],
          "name": "stdout"
        }
      ]
    },
    {
      "cell_type": "markdown",
      "metadata": {
        "id": "jhy2LQtYDA1p"
      },
      "source": [
        "### Sorting Frequency Tables\r\n",
        "Analysis and visualisation is easier if we can sort the frequency tables.\r\n",
        "\r\n",
        "Sorting by value is most helpful because it helps reveal from the data which apps categories and genres are most popular right now.\r\n",
        "\r\n",
        "The function should do the follow:\r\n",
        "- Take a dictionary as input\r\n",
        "- Have parameter to allow sorting ascending or descending\r\n",
        "- Return a sorted dictionary\r\n",
        "\r\n",
        "The method:\r\n",
        "- Write a function to get a corresponding key by value.\r\n",
        "- Make a sorted list of the values in the frequency table.\r\n",
        "- Loop through the sorted list, put the relevant key, make a new dictionary.\r\n",
        "\r\n",
        "#### Function Get_Key\r\n",
        "This helper function makes two parallel lists of keys and values from a dictionary.\r\n",
        "\r\n",
        "This works as a translation table. Get the index for value list, and return the corresponding value for that index from the key list.\r\n",
        "\r\n",
        "Our input dictionaries are:\r\n",
        "- android_category_dict - value 57\r\n",
        "- android_genre_dict - value 53\r\n",
        "- ios_genre_dict - value 106"
      ],
      "id": "jhy2LQtYDA1p"
    },
    {
      "cell_type": "code",
      "metadata": {
        "id": "kxcDt9AKoaE7"
      },
      "source": [
        "\r\n",
        "#Gets a key given a value\r\n",
        "def get_key(dict_in, value_in):\r\n",
        "  list_vals = list(dict_in.values())\r\n",
        "  list_keys = list(dict_in.keys())\r\n",
        "  index_position = list(dict_in.values()).index(value_in)\r\n",
        "  key = (list_keys[index_position])\r\n",
        "  return key"
      ],
      "id": "kxcDt9AKoaE7",
      "execution_count": 247,
      "outputs": []
    },
    {
      "cell_type": "markdown",
      "metadata": {
        "id": "WNO4NoFxOJx_"
      },
      "source": [
        "#### Function sort_dict\r\n",
        "This is the function that sorts a dictionary in ascending or descendning order using the built-in sorted() function.\r\n",
        "\r\n",
        "The function can return raw numbers or percentages."
      ],
      "id": "WNO4NoFxOJx_"
    },
    {
      "cell_type": "code",
      "metadata": {
        "colab": {
          "base_uri": "https://localhost:8080/"
        },
        "id": "CnXIbc6UOlVn",
        "outputId": "a24ed82b-43c9-4dc0-e9ea-abfa19855da5"
      },
      "source": [
        "def sort_dict(dictionary, desc=True, percent=False):\r\n",
        "  sorted_dict = {}\r\n",
        "  index_list = sorted(list(dictionary.values()), reverse=desc)\r\n",
        "  sum_index_list = sum(index_list)\r\n",
        "  for index in index_list:\r\n",
        "    value = index\r\n",
        "    key = get_key(dictionary, value)    \r\n",
        "    if percent:\r\n",
        "      value = round((index/sum_index_list)*100, 2)\r\n",
        "    else:\r\n",
        "      value = index\r\n",
        "    index_tuple = (key, value)\r\n",
        "    sorted_dict[index_tuple[0]] = index_tuple[1]\r\n",
        "  return sorted_dict \r\n",
        "\r\n",
        "android_category_dict_desc = sort_dict(android_category_dict, desc=True, percent=False)\r\n",
        "android_category_dict_desc_percent = sort_dict(android_category_dict, desc=True, percent=True)\r\n",
        "print(\"Android App Categories (Raw / %)\")\r\n",
        "print(android_category_dict_desc)\r\n",
        "print(android_category_dict_desc_percent)\r\n",
        "print(\"\\n\")\r\n",
        "android_genre_dict_desc = sort_dict(android_genre_dict, desc=True, percent=False)\r\n",
        "android_genre_dict_desc_percent = sort_dict(android_genre_dict, desc=True, percent=True)\r\n",
        "print(\"Android App Genres (Raw / %)\")\r\n",
        "print(android_genre_dict_desc)\r\n",
        "print(android_genre_dict_desc_percent)\r\n",
        "print(\"\\n\")\r\n",
        "ios_genre_dict_desc = sort_dict(ios_genre_dict, desc=True, percent=False)\r\n",
        "ios_genre_dict_desc_percent = sort_dict(ios_genre_dict, desc=True, percent=True)\r\n",
        "print(\"iOS App Genres (Raw / %)\")\r\n",
        "print(ios_genre_dict_desc)\r\n",
        "print(ios_genre_dict_desc_percent)\r\n",
        "print(\"\\n\")\r\n",
        "\r\n"
      ],
      "id": "CnXIbc6UOlVn",
      "execution_count": 248,
      "outputs": [
        {
          "output_type": "stream",
          "text": [
            "Android App Categories (Raw / %)\n",
            "{'FAMILY': 1676, 'GAME': 862, 'TOOLS': 750, 'BUSINESS': 407, 'LIFESTYLE': 346, 'PRODUCTIVITY': 345, 'FINANCE': 328, 'MEDICAL': 313, 'SPORTS': 301, 'PERSONALIZATION': 294, 'COMMUNICATION': 287, 'HEALTH_AND_FITNESS': 273, 'PHOTOGRAPHY': 261, 'NEWS_AND_MAGAZINES': 248, 'SOCIAL': 236, 'TRAVEL_AND_LOCAL': 207, 'SHOPPING': 199, 'BOOKS_AND_REFERENCE': 190, 'DATING': 165, 'VIDEO_PLAYERS': 159, 'MAPS_AND_NAVIGATION': 124, 'FOOD_AND_DRINK': 110, 'EDUCATION': 103, 'ENTERTAINMENT': 85, 'LIBRARIES_AND_DEMO': 83, 'AUTO_AND_VEHICLES': 82, 'HOUSE_AND_HOME': 73, 'WEATHER': 71, 'EVENTS': 63, 'PARENTING': 58, 'ART_AND_DESIGN': 57, 'COMICS': 55, 'BEAUTY': 53}\n",
            "{'FAMILY': 18.91, 'GAME': 9.72, 'TOOLS': 8.46, 'BUSINESS': 4.59, 'LIFESTYLE': 3.9, 'PRODUCTIVITY': 3.89, 'FINANCE': 3.7, 'MEDICAL': 3.53, 'SPORTS': 3.4, 'PERSONALIZATION': 3.32, 'COMMUNICATION': 3.24, 'HEALTH_AND_FITNESS': 3.08, 'PHOTOGRAPHY': 2.94, 'NEWS_AND_MAGAZINES': 2.8, 'SOCIAL': 2.66, 'TRAVEL_AND_LOCAL': 2.34, 'SHOPPING': 2.25, 'BOOKS_AND_REFERENCE': 2.14, 'DATING': 1.86, 'VIDEO_PLAYERS': 1.79, 'MAPS_AND_NAVIGATION': 1.4, 'FOOD_AND_DRINK': 1.24, 'EDUCATION': 1.16, 'ENTERTAINMENT': 0.96, 'LIBRARIES_AND_DEMO': 0.94, 'AUTO_AND_VEHICLES': 0.93, 'HOUSE_AND_HOME': 0.82, 'WEATHER': 0.8, 'EVENTS': 0.71, 'PARENTING': 0.65, 'ART_AND_DESIGN': 0.64, 'COMICS': 0.62, 'BEAUTY': 0.6}\n",
            "\n",
            "\n",
            "Android App Genres (Raw / %)\n",
            "{'Tools': 749, 'Entertainment': 538, 'Education': 474, 'Business': 407, 'Lifestyle': 345, 'Finance': 328, 'Medical': 313, 'Sports': 307, 'Personalization': 294, 'Communication': 287, 'Action': 275, 'Health & Fitness': 273, 'Photography': 261, 'News & Magazines': 248, 'Social': 236, 'Travel & Local': 206, 'Shopping': 199, 'Books & Reference': 190, 'Simulation': 181, 'Dating': 165, 'Arcade': 164, 'Video Players & Editors': 157, 'Casual': 156, 'Maps & Navigation': 124, 'Food & Drink': 110, 'Puzzle': 100, 'Racing': 88, 'Libraries & Demo': 83, 'Auto & Vehicles': 82, 'Strategy': 81, 'House & Home': 73, 'Weather': 71, 'Events': 63, 'Adventure': 60, 'Comics': 54, 'Art & Design': 53, 'Parenting': 44, 'Card': 40, 'Casino': 38, 'Trivia': 37, 'Educational;Education': 35, 'Board': 34, 'Educational': 33, 'Education;Education': 30, 'Word': 23, 'Casual;Pretend Play': 21, 'Music': 18, 'Entertainment;Music & Video': 15, 'Casual;Brain Games': 12, 'Arcade;Action & Adventure': 11, 'Action;Action & Adventure': 9, 'Educational;Pretend Play': 8, 'Entertainment;Brain Games': 7, 'Art & Design;Creativity': 6, 'Education;Pretend Play': 5, 'Education;Creativity': 4, 'Education;Brain Games': 3, 'Casual;Education': 2, 'Comics;Creativity': 1}\n",
            "{'Tools': 8.45, 'Entertainment': 6.07, 'Education': 5.35, 'Business': 4.59, 'Lifestyle': 3.89, 'Finance': 3.7, 'Medical': 3.53, 'Sports': 3.46, 'Personalization': 3.32, 'Communication': 3.24, 'Action': 3.1, 'Health & Fitness': 3.08, 'Photography': 2.94, 'News & Magazines': 2.8, 'Social': 2.66, 'Travel & Local': 2.32, 'Shopping': 2.25, 'Books & Reference': 2.14, 'Simulation': 2.04, 'Dating': 1.86, 'Arcade': 1.85, 'Video Players & Editors': 1.77, 'Casual': 1.76, 'Maps & Navigation': 1.4, 'Food & Drink': 1.24, 'Puzzle': 1.13, 'Racing': 0.99, 'Libraries & Demo': 0.94, 'Auto & Vehicles': 0.93, 'Strategy': 0.91, 'House & Home': 0.82, 'Weather': 0.8, 'Events': 0.71, 'Adventure': 0.68, 'Comics': 0.61, 'Art & Design': 0.6, 'Parenting': 0.5, 'Card': 0.45, 'Casino': 0.43, 'Trivia': 0.42, 'Educational;Education': 0.39, 'Board': 0.38, 'Educational': 0.37, 'Education;Education': 0.34, 'Word': 0.26, 'Casual;Pretend Play': 0.24, 'Music': 0.2, 'Entertainment;Music & Video': 0.17, 'Casual;Brain Games': 0.14, 'Arcade;Action & Adventure': 0.12, 'Action;Action & Adventure': 0.1, 'Educational;Pretend Play': 0.09, 'Entertainment;Brain Games': 0.08, 'Art & Design;Creativity': 0.07, 'Education;Pretend Play': 0.06, 'Education;Creativity': 0.05, 'Education;Brain Games': 0.03, 'Casual;Education': 0.02, 'Comics;Creativity': 0.01}\n",
            "\n",
            "\n",
            "iOS App Genres (Raw / %)\n",
            "{'Games': 1874, 'Entertainment': 254, 'Photo & Video': 160, 'Education': 118, 'Social Networking': 106, 'Shopping': 84, 'Utilities': 81, 'Sports': 69, 'Music': 66, 'Health & Fitness': 65, 'Productivity': 56, 'Lifestyle': 51, 'News': 43, 'Travel': 40, 'Finance': 36, 'Weather': 28, 'Food & Drink': 26, 'Reference': 18, 'Business': 17, 'Book': 14, 'Navigation': 6, 'Catalogs': 4}\n",
            "{'Games': 58.16, 'Entertainment': 7.88, 'Photo & Video': 4.97, 'Education': 3.66, 'Social Networking': 3.29, 'Shopping': 2.61, 'Utilities': 2.51, 'Sports': 2.14, 'Music': 2.05, 'Health & Fitness': 2.02, 'Productivity': 1.74, 'Lifestyle': 1.58, 'News': 1.33, 'Travel': 1.24, 'Finance': 1.12, 'Weather': 0.87, 'Food & Drink': 0.81, 'Reference': 0.56, 'Business': 0.53, 'Book': 0.43, 'Navigation': 0.19, 'Catalogs': 0.12}\n",
            "\n",
            "\n"
          ],
          "name": "stdout"
        }
      ]
    },
    {
      "cell_type": "markdown",
      "metadata": {
        "id": "FTqbzyf5Um65"
      },
      "source": [
        "Now we have six sorted dictionaries for further analysis:\r\n",
        "- android_category_dict_desc\r\n",
        "- android_category_dict_desc_percent\r\n",
        "- android_genre_dict_desc\r\n",
        "- android_genre_dict_desc_percent\r\n",
        "- ios_genre_dict_desc\r\n",
        "- ios_genre_dict_desc_percent"
      ],
      "id": "FTqbzyf5Um65"
    },
    {
      "cell_type": "markdown",
      "metadata": {
        "id": "Fg7tu9S-uDDu"
      },
      "source": [
        "## Analysis\r\n",
        "The scope of the analysis is as follows:\r\n",
        "- Only English-named apps.\r\n",
        "- Only free apps.\r\n",
        "\r\n",
        "### Apple Store Analysis\r\n",
        "- **Most common genre**: A very dominant 51% of the free apps on App Store are 'Games.' The next genre is 'Entertainment' but it is not even close with 7.8%\r\n",
        "- **Patterns & Trends**: There is a slight bias to art and social networking in the frequency table, but it is not significant given the dominance of games. In other words, there is no indication what kind of game it should be.\r\n",
        "\r\n",
        "### Play Store Analysis\r\n",
        "- **Most common category**: 'Family' is the dominant category at 19%. Games comes next, at just under 10%. \r\n",
        "- **Most common genre**: Genres are very distributed. At the most frequent end there is 'Tools' at 8%, 'Entertainment' at 6% and 'Education' at 5%.\r\n",
        "- **Patterns & Trends**: There are a lot of genres and all of them are just a percent or so between each other. \r\n",
        "\r\n",
        "### Recommendations\r\n",
        "The company should build:\r\n",
        "- A free game with family-friendly themes and PEGI rating.\r\n",
        "\r\n"
      ],
      "id": "Fg7tu9S-uDDu"
    },
    {
      "cell_type": "markdown",
      "metadata": {
        "id": "PhHhqKq01Tdo"
      },
      "source": [
        "## Installations as a measure of popularity\r\n",
        "Play Store data has the 'Installs' column which we can use to calculate the most-installed genres.\r\n",
        "\r\n",
        "App Store data does not, but we can use the rating_count_column as a proxy because we only need relative popularity, not total popularity.\r\n",
        "\r\n",
        "### Function: avg_genre_install\r\n",
        "- Loop through the unique genres \r\n",
        "- Sum the user_rating_count\r\n",
        "- Count the number of apps in genre\r\n",
        "- Average: total_r_count / total_a_count.\r\n",
        "\r\n",
        "### Columns to analyse\r\n",
        "- iOS: prime_genre = -5, total_rating_count = 5\r\n",
        "- Android: genres = 9, installs = 5"
      ],
      "id": "PhHhqKq01Tdo"
    },
    {
      "cell_type": "code",
      "metadata": {
        "colab": {
          "base_uri": "https://localhost:8080/"
        },
        "id": "KsDnt7-7093M",
        "outputId": "5124821f-6d90-41fa-84ed-96ad38e7ec3f"
      },
      "source": [
        "def avg_genre_install(dataset, genre_col, avg_this_col, desc=True, percent=False):\r\n",
        "  genre_table = freq_table(dataset, genre_col)\r\n",
        "  avg_genre_table = {}\r\n",
        "  for genre in genre_table:\r\n",
        "    total_ratings_per_genre = 0\r\n",
        "    total_apps_in_genre = 0\r\n",
        "    for app in dataset:\r\n",
        "      if app[genre_col] == genre:\r\n",
        "        total_ratings_per_genre += float(app[avg_this_col])\r\n",
        "        total_apps_in_genre += 1\r\n",
        "        avg_rating_for_genre = int(total_ratings_per_genre / total_apps_in_genre)\r\n",
        "        avg_genre_table[genre] = avg_rating_for_genre\r\n",
        "  if percent and desc:\r\n",
        "    sorted_avg_genre_table = sort_dict(avg_genre_table, desc=True, percent=True)\r\n",
        "  if (not desc) and percent:\r\n",
        "    sorted_avg_genre_table = sort_dict(avg_genre_table, desc=False, percent=True)\r\n",
        "  if desc and (not percent):\r\n",
        "    sorted_avg_genre_table = sort_dict(avg_genre_table, desc=True, percent=False)  \r\n",
        "  elif (not percent) and (not desc):\r\n",
        "    sorted_avg_genre_table = sort_dict(avg_genre_table, desc=False, percent=False)\r\n",
        "  return sorted_avg_genre_table\r\n",
        "\r\n",
        "print(\"Apple Play Store - average ratings given for each genre as a % of the total giving an indication of which genre is most downloaded.\")\r\n",
        "ios_avg_genre_ratings_ios = avg_genre_install(free_eng_ios, -5, 5, desc=True, percent=True)\r\n",
        "print(ios_avg_genre_ratings_ios)\r\n",
        "\r\n"
      ],
      "id": "KsDnt7-7093M",
      "execution_count": 249,
      "outputs": [
        {
          "output_type": "stream",
          "text": [
            "Apple Play Store - average ratings given for each genre as a % of the total giving an indication of which genre is most downloaded.\n",
            "{'Navigation': 12.12, 'Reference': 10.55, 'Social Networking': 10.08, 'Music': 8.07, 'Weather': 7.36, 'Book': 5.6, 'Food & Drink': 4.69, 'Finance': 4.43, 'Photo & Video': 4.01, 'Travel': 3.98, 'Shopping': 3.79, 'Health & Fitness': 3.28, 'Sports': 3.24, 'Games': 3.21, 'News': 2.99, 'Productivity': 2.96, 'Utilities': 2.63, 'Lifestyle': 2.32, 'Entertainment': 1.98, 'Business': 1.06, 'Education': 0.99, 'Catalogs': 0.56, 'Medical': 0.09}\n"
          ],
          "name": "stdout"
        }
      ]
    },
    {
      "cell_type": "markdown",
      "metadata": {
        "id": "H3umr-42pDdG"
      },
      "source": [
        "### Apple Store Analysis\r\n",
        "Previously, the analysis suggested a game with family elements.\r\n",
        "\r\n",
        "However, it's likely there is a selection bias at play here. It is not possible that 50% of apps only make up 3% of the downloads. Probably, people are more moved to rate navigation and reference which have utility, over games which are quickly deleted if not to the downloader's taste.\r\n",
        "\r\n",
        "## Popularity Analysis - Play Store\r\n",
        "\r\n",
        "### Cleaning\r\n",
        "That installs column contains strings such as \"10,000+\" so they need cleaning before we can convert and average them"
      ],
      "id": "H3umr-42pDdG"
    },
    {
      "cell_type": "code",
      "metadata": {
        "id": "gZDLFNYYqyB1"
      },
      "source": [
        "test = [\"100,000\", \"10,000plus\", \"\", \"1,000+\"]\r\n",
        "\r\n",
        "for app in free_eng_android:\r\n",
        "  n_installs = app[5]\r\n",
        "  n_installs = n_installs.replace(',', '')\r\n",
        "  n_installs = n_installs.replace('+', '')\r\n",
        "  print(n_installs)\r\n",
        "  app[5] = n_installs\r\n"
      ],
      "id": "gZDLFNYYqyB1",
      "execution_count": null,
      "outputs": []
    },
    {
      "cell_type": "markdown",
      "metadata": {
        "id": "Rfa8a5WKyEMp"
      },
      "source": [
        "Now we can run the **avg_genre_install** function on the android dataset."
      ],
      "id": "Rfa8a5WKyEMp"
    },
    {
      "cell_type": "code",
      "metadata": {
        "colab": {
          "base_uri": "https://localhost:8080/"
        },
        "id": "z4bhXCF1yXjT",
        "outputId": "0a408b6c-ba24-40ea-ee67-457ce3411ae0"
      },
      "source": [
        "print(\"Google Play Store - average ratings given for each genre as a % of the total giving an indication of which genre is most downloaded.\")\r\n",
        "avg_genre_ratings_ios = avg_genre_install(free_eng_android, 9, 5, desc=True, percent=False)\r\n",
        "print(avg_genre_ratings_ios)\r\n"
      ],
      "id": "z4bhXCF1yXjT",
      "execution_count": 294,
      "outputs": [
        {
          "output_type": "stream",
          "text": [
            "Google Play Store - average ratings given for each genre as a % of the total giving an indication of which genre is most downloaded.\n",
            "{'Communication': 38456119, 'Adventure;Action & Adventure': 35333333, 'Video Players & Editors': 24947335, 'Social': 23253652, 'Arcade': 22888365, 'Casual': 19569221, 'Puzzle;Action & Adventure': 18366666, 'Photography': 17840110, 'Educational;Action & Adventure': 17016666, 'Productivity': 16787331, 'Racing': 15910645, 'Travel & Local': 14051476, 'Casual;Action & Adventure': 12916666, 'Action': 12603588, 'Strategy': 11199902, 'Tools': 10802461, 'Lifestyle;Pretend Play': 10000000, 'News & Magazines': 9549178, 'Music': 9445583, 'Educational;Pretend Play': 9375000, 'Puzzle;Brain Games': 9280666, 'Word': 9094458, 'Racing;Action & Adventure': 8816666, 'Books & Reference': 8767811, 'Puzzle': 8302861, 'Video Players & Editors;Music & Video': 7500000, 'Shopping': 7036877, 'Role Playing;Action & Adventure': 7000000, 'Casual;Pretend Play': 6957142, 'Entertainment;Music & Video': 6413333, 'Action;Action & Adventure': 5888888, 'Entertainment': 5602792, 'Education;Brain Games': 5333333, 'Role Playing;Pretend Play': 5275000, 'Personalization': 5201482, 'Weather': 5074486, 'Music;Music & Video': 5050000, 'Video Players & Editors;Creativity': 5000000, 'Adventure': 4922785, 'Simulation;Action & Adventure': 4857142, 'Education;Education': 4759517, 'Board': 4759209, 'Sports': 4596842, 'Educational;Brain Games': 4433333, 'Health & Fitness': 4188821, 'Maps & Navigation': 4056941, 'Entertainment;Creativity': 4000000, 'Role Playing': 3965645, 'Card': 3815462, 'Trivia': 3475712, 'Simulation': 3475484, 'Casino': 3427910, 'Entertainment;Brain Games': 3314285, 'Arcade;Action & Adventure': 3190909, 'Board;Action & Adventure': 3000000, 'Education;Creativity': 2875000, 'Educational;Creativity': 2333333, 'Art & Design': 2122850, 'Education;Music & Video': 2033333, 'Food & Drink': 1924897, 'Education;Pretend Play': 1800000, 'Educational;Education': 1737143, 'Business': 1712290, 'Casual;Brain Games': 1425916, 'Lifestyle': 1412998, 'Finance': 1387692, 'House & Home': 1331540, 'Parenting;Music & Video': 1118333, 'Entertainment;Education': 1000000, 'Dating': 854028, 'Comics': 831873, 'Puzzle;Creativity': 750000, 'Auto & Vehicles': 647317, 'Libraries & Demo': 638503, 'Education': 550185, 'Simulation;Pretend Play': 550000, 'Beauty': 513151, 'Art & Design;Pretend Play': 500000, 'Parenting': 467977, 'Parenting;Education': 452857, 'Educational': 411184, 'Board;Brain Games': 407142, 'Art & Design;Creativity': 285000, 'Events': 253542, 'Medical': 120550, 'Art & Design;Action & Adventure': 100000, 'Comics;Creativity': 50000, 'Books & Reference;Education': 1000, 'Simulation;Education': 500, 'Trivia;Education': 100}\n"
          ],
          "name": "stdout"
        }
      ]
    },
    {
      "cell_type": "markdown",
      "metadata": {
        "id": "JsAfgJEPzbx_"
      },
      "source": [
        "Further analysis is likely to reveal that some major apps like WhatsApp and YouTube are dominating 'Communication' and 'Video Players & Editors'.\r\n",
        "\r\n",
        "It would be wise to remove these outliers to get a better sense of the core apps that we can actually compete against.\r\n",
        "\r\n",
        "# Conclusions\r\n",
        "In this project, App Store and Play Store mobile apps which were free and given English language names were analysed with the goal of finding the profile of an app which would compete well in both marketplaces.\r\n",
        "\r\n",
        "Therefore, we would recommend either:\r\n",
        "1. A family-friendly game\r\n",
        "2. An app based around a popular book\r\n",
        "\r\n",
        "Option 2 is the recommendation we would make based on this analysis due to the much smaller marketplace and therefore more well-defined niche."
      ],
      "id": "JsAfgJEPzbx_"
    }
  ]
}